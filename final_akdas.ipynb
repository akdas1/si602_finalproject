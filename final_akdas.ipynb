{
 "cells": [
  {
   "cell_type": "markdown",
   "metadata": {},
   "source": [
    "# SI 602 Final Project\n",
    "\n",
    "#### Choice: Problem Set Questions\n",
    "\n",
    "**By Amit Das**\n",
    "\n",
    "**akdas**\n",
    "\n",
    "**April 28, 2024**"
   ]
  },
  {
   "cell_type": "markdown",
   "metadata": {},
   "source": [
    "## Introduction\n",
    "\n",
    "Welcome to my final project! In this project, we aim to revisit some fundamental topics that are not only essential to our class, but also to many real-world applications. We will mainly re-explore and delve deepr into some probability concepts, like Posterior Probability (an extension of Conditional Probability), Expectations, and Distribution Functions to compare probabilities. It also aims to introduce some overlap within these topics and explain how they connect with each other in practice.\n",
    "\n",
    "If you would like to run this code, please see the linked github repository where I have uploaded it:\n",
    "\n",
    "https://github.com/akdas1/si602_finalproject"
   ]
  },
  {
   "cell_type": "markdown",
   "metadata": {},
   "source": [
    "## Topic / Interest\n",
    "\n",
    "As mentioned, in this project, we will focus on a few fundamental and essential topics of probability, to help assist student understanding in class and within the real-world. The areas of focus are:\n",
    "\n",
    "- **Posterior Probability**: Similar (but variated) to conditional probability, posterior probability explores how certain probabilities are updated given the fact that new evidence is found. It is an essential tool to learn since it can benefit many different types of real-world practices, such as with machine learning and prediction. As an example, students may be able to analyze how certain features affect predictive models. In the real-world, this understanding and adjustment to predictions is vital for decision making when new data arises.\n",
    "\n",
    "- **Expectations**: Expectations generally represent the mean or expected value of a random variable, which is essentially the weighted average of all possible outcomes. To break it down, each outcome has an accompanied probability, so the expected value is the sum of all these weighted outcomes. This can be very beneficial within prediction and similar decision-making processes since it helps students minimize uncertainty and visualize expected outcomes.\n",
    "\n",
    "- **Distributions (specifically CDFs and PDFs)**: Distributions help describe the probabilities of different outcomes for discrete and continuous data, along with random variables. Understanding what the distributions mean helps students to better model and predict information, as well as identifying key trends in data. This is essential for not only machine learning, but a variety of data science problems in their future. While we will focus more on Posterior Probability and Expectations, we will visit distributions as a bonus to help visualize both of these topics, as it can be used as a tool to maximize understanding. It is also a good point to learn how distributions can be different in contrast as probabiltiies change.\n",
    "\n",
    "The objective of this project was to revisit these topics to help build student understanding through practice and real-world examples. Since many students will be going into diverse fields, my goal for this project was to offer students the opportunity to practice with real-world scenarios where they can apply their knowledge. Since real-world data can be complex, I wished to offer the readers different examples to help them navigate through new and unseen data for the future, while reinforcing their skills and building on course topics along the way.\n",
    "\n",
    "Knowing this, I hope that my project can offer a great amount of practice and reinforcement to students who wished for more practice around these topics and offer real world examples where it can be used."
   ]
  },
  {
   "cell_type": "markdown",
   "metadata": {},
   "source": [
    "---\n",
    "\n",
    "## Posterior Probability, Expectations, and Distributions\n",
    "\n",
    "#### **Premise:**\n",
    "\n",
    "We will dive into questions focusing and overlapping heavily on posterior probability and expectation, while offering an additional bonus question on distribution. We will be using a video game library scenario to mimic a real-world example. It will follow the behavior and gameplay trends of a particular student. The example contains the multiple probabilities such as:\n",
    "- The chance of how the student is feeling on any day\n",
    "- Given how the student is feeling, the probability for them to pick a certain game genre\n",
    "- Rating Probabilities for the specific genres\n",
    "\n",
    "It will also offer the chance to analyze different outcomes that can come out of this probability scenario. We will try to mix some complexity within these scenarios to better prepare students for the different types of real-world situations they may come accross.\n",
    "\n",
    "#### **Prior Information:**\n",
    "\n",
    "Omar is a current graduate student who loves to play video games whenever he has the chance. However, he is very indecisive and picks games at random based on how he is feeling.\n",
    "\n",
    "There is an equal chance for him to be happy or sad on any given day.\n",
    "\n",
    "- If he is sad, he will choose to play an adventure game with a probability of 70% and a mystery game with a probability of 30%.\n",
    "\n",
    "- If he is happy, he will play a horror game with a probability of 60%, a mystery game with a probability of 20%, and an adventure game with a probability of 20%.\n",
    "\n",
    "**Note: To avoid confusion, let's assume every game only has one genre.**\n",
    "\n",
    "Now, let's suppose we have a probability distribution table for each ratings in each genre:\n",
    "\n",
    "| Rating | Adventure | Mystery | Horror |\n",
    "|--------|-----------|---------|--------|\n",
    "| 1      | 0.1       | 0.4     | 0.2    |\n",
    "| 2      | 0.2       | 0.2     | 0.3    |\n",
    "| 3      | 0.1       | 0.2     | 0.2    |\n",
    "| 4      | 0.1       | 0.1     | 0.2    |\n",
    "| 5      | 0.5       | 0.1     | 0.1    |\n",
    "\n",
    "#### **Questions:**\n",
    "\n",
    "1. Given that we know Omar played a mystery game, what is the probability that that he was happy?\n",
    "\n",
    "2. On any given day, what is the probability he chooses a game with at least 4 stars?\n",
    "\n",
    "3. Suppose on a day where Omar is sad, what is the expectation of the rating for the game he will play?\n",
    "\n",
    "4. BONUS: For any of the genres from the table above, plot the PDF and CDF of their rating probability ditributions in code. What insights do you see?"
   ]
  },
  {
   "cell_type": "markdown",
   "metadata": {},
   "source": [
    "## Solutions:\n",
    "\n",
    "### **Question 1**\n",
    "\n",
    "**Before we start, there are a few steps we need to identify and compute:**"
   ]
  },
  {
   "cell_type": "markdown",
   "metadata": {},
   "source": [
    "**Prior Probability:**\n",
    "\n",
    "The initial probability where Omar was happy, which is 50%\n",
    "\n",
    "$P(Happy) = 0.5$"
   ]
  },
  {
   "cell_type": "markdown",
   "metadata": {},
   "source": [
    "**Given Likelihood:**\n",
    "\n",
    "The probability plays a mystery game given that he was happy.\n",
    "\n",
    "$P(Mystery | Happy) = 0.2$"
   ]
  },
  {
   "cell_type": "markdown",
   "metadata": {},
   "source": [
    "**Marginal Probability:**\n",
    "\n",
    "Overall probability that Omar will play a mystery game, regardless of how he feels.\n",
    "\n",
    "$P(Mystery) = P(Mystery | Happy)P(Happy) + P(Mystery | Sad)P(Sad)$"
   ]
  },
  {
   "cell_type": "markdown",
   "metadata": {},
   "source": [
    "**We can identify the other parts in P(Mystery) as:**\n",
    "\n",
    "$P(Mystery | Sad) = 0.3$ since it is the probability of the game choice being mystery on a sad day.\n",
    "\n",
    "$P(Sad) = 0.5$ since it is an equal probability.\n",
    "\n",
    "$P(Mystery) = ((0.2)*(0.5)) + ((0.3)*(0.5))$\n",
    "\n",
    "$P(Mystery) = 0.25$"
   ]
  },
  {
   "cell_type": "markdown",
   "metadata": {},
   "source": [
    "**Posterior Probability:**\n",
    "\n",
    "The completed probability for the chance where Omar is happy, given that he played a mystery game. The formula here is an application of the Bayes Theorm.\n",
    "\n",
    "##### $P(Happy | Mystery) = \\frac{P(Mystery | Happy)P(Happy)}{P(Mystery)}$\n",
    "\n",
    "##### $P(Happy | Mystery) = \\frac{0.2*0.5}{0.25} = 0.4$\n",
    "\n",
    "Conclusion: **There is a 0.4 probability that Omar was happy that day, given that he played a mystery game.**"
   ]
  },
  {
   "cell_type": "markdown",
   "metadata": {},
   "source": [
    "### **Question 2**\n",
    "\n",
    "We can look at this by comparing the total probability and combining the other probabilities on how he feels, which genre he picks in that mood, and the rating probabilities of each genre.\n",
    "\n",
    "It would look like this:\n",
    "\n",
    "##### $P(Rating>=4) = P(Rating>=4 | Sad)P(Sad) + P(Rating>=4 | Happy)P(Happy)$\n",
    "\n",
    "We can identify a few things:\n",
    "\n",
    "$P(Adventure | Sad) = 0.7$\n",
    "\n",
    "$P(Mystery | Sad) = 0.3$\n",
    "\n",
    "$P(Adventure | Happy) = 0.2$\n",
    "\n",
    "$P(Mystery | Happy) = 0.2$\n",
    "\n",
    "$P(Horror | Happy) = 0.6$"
   ]
  },
  {
   "cell_type": "markdown",
   "metadata": {},
   "source": [
    "Rating probablities per genre:\n",
    "\n",
    "$P(Rating>=4 | Adventure) = 0.1 + 0.5 = 0.6$\n",
    "\n",
    "$P(Rating>=4 | Mystery) = 0.1 + 0.1 = 0.2$\n",
    "\n",
    "$P(Rating>=4 | Horror) = 0.2 + 0.1 = 0.3$"
   ]
  },
  {
   "cell_type": "markdown",
   "metadata": {},
   "source": [
    "Rating probablities per feeling:\n",
    "\n",
    "$P(Rating>=4 | Sad) = P(Rating>=4 | Adventure)P(Adventure | Sad) + P(Rating>=4 | Mystery)P(Mystery | Sad)$\n",
    "\n",
    "$P(Rating>=4 | Sad) = (0.6x0.7)+(0.2x0.3) = 0.48$\n",
    "\n",
    "$P(Rating>=4 | Happy) = P(Rating>=4 | Horror)P(Horror | Happy) + P(Rating>=4 | Mystery)P(Mystery | Happy) + P(Rating>=4 | Adventure)P(Adventure | Happy)$\n",
    "\n",
    "$P(Rating>=4 | Happy) = (0.3x0.6)+(0.2x0.2)+(0.6x0.2) = 0.34$"
   ]
  },
  {
   "cell_type": "markdown",
   "metadata": {},
   "source": [
    "**Total Probability:**\n",
    "\n",
    "We can compute the total probability by multiplying each probability by it's inital chance and sum.\n",
    "\n",
    "$P(Rating>=4) = P(Rating>=4 | Sad)P(Sad) + P(Rating>=4 | Happy)P(Happy)$\n",
    "\n",
    "$P(Rating>=4) = (0.48x0.5)+(0.34x0.5) = 0.41$\n",
    "\n",
    "Conclusion: **There is a 0.41 probability that Omar plays a game with at least a 4 star rating on an day.**"
   ]
  },
  {
   "cell_type": "markdown",
   "metadata": {},
   "source": [
    "### **Question 3**\n",
    "\n",
    "To find the rating expectation on a sad day, you need to find the initial expectations for each genre. You can find this by adding the products of each rating value and it's corresponding probability. You can then multiply each of these expectations by the conditional probabilities as seen below:\n",
    "\n",
    "##### $E(Rating | Sad) = E(Rating | Adventure)P(Adventure | Sad) + E(Rating | Mystery)P(Mystery | Sad)$\n",
    "\n",
    "Finding the expectations:\n",
    "\n",
    "$E(Rating | Adventure) = (1x0.1)+(2x0.2)+(3x0.1)+(4x0.1)+(5x0.5) = 3.7$\n",
    "\n",
    "$E(Rating | Mystery) = (1x0.4)+(2x0.2)+(3x0.2)+(4x0.1)+(5x0.1) = 2.3$\n",
    "\n",
    "$P(Adventure | Sad) = 0.7$ as computed in Q2.\n",
    "\n",
    "$P(Mystery | Sad) = 0.3$ as computed in Q2.\n",
    "\n",
    "Recomputing:\n",
    "\n",
    "$E(Rating | Sad) = (3.7x0.7)+(2.3x0.3) = 3.28$\n",
    "\n",
    "Conclusion: **We can expect the game to have a rating of around 3.28 whenever Omar is sad.**"
   ]
  },
  {
   "cell_type": "markdown",
   "metadata": {},
   "source": [
    "### **Bonus Question 4**\n",
    "\n",
    "For example, we will use the Adventure Genre for this. The code itself can be open ended, but the results should be the same when comparing plots for the same genres.\n",
    "\n",
    "Essentially, you can convert the numbers in the table manually to some np.arrays or a pandas dataframe, and then plot them accordingly.\n",
    "\n",
    "Here is a sample solution code:"
   ]
  },
  {
   "cell_type": "code",
   "execution_count": 9,
   "metadata": {},
   "outputs": [
    {
     "data": {
      "image/png": "[encoded data removed]",
      "text/plain": [
       "<Figure size 1200x500 with 2 Axes>"
      ]
     },
     "metadata": {},
     "output_type": "display_data"
    }
   ],
   "source": [
    "import matplotlib.pyplot as plt\n",
    "import numpy as np\n",
    "\n",
    "# define the ratings and their probabilities\n",
    "ratings = np.array([1, 2, 3, 4, 5])\n",
    "probs = np.array([0.1, 0.2, 0.1, 0.1, 0.5])\n",
    "\n",
    "# calculate the cdf\n",
    "# pdf is already sorted by ratings\n",
    "cdf = np.cumsum(probs)\n",
    "\n",
    "# plot the pdf and cdf\n",
    "plt.figure(figsize=(12, 5))\n",
    "\n",
    "# pdf plot\n",
    "# here you are using the bar plot to show the probability distribution of the ratings\n",
    "# each line adds new features to the plot\n",
    "plt.subplot(1, 2, 1)\n",
    "plt.bar(ratings, probs)\n",
    "plt.title('Probability Distribution Function (PDF)')\n",
    "plt.xlabel('Rating')\n",
    "plt.ylabel('Probability')\n",
    "plt.xticks(ratings)\n",
    "\n",
    "# cdf plot\n",
    "# here you are using the step plot to show the cumulative probability distribution of the ratings\n",
    "# each line adds new features to the plot\n",
    "plt.subplot(1, 2, 2)\n",
    "plt.step(ratings, cdf, where='post')  # post changes how the steps look\n",
    "plt.title('Cumulative Distribution Function (CDF)')\n",
    "plt.xlabel('Rating')\n",
    "plt.ylabel('Cumulative Probability')\n",
    "plt.xticks(ratings)\n",
    "plt.yticks(np.linspace(0, 1, 11))  # so we can see the exact values\n",
    "\n",
    "plt.show()\n"
   ]
  },
  {
   "cell_type": "markdown",
   "metadata": {},
   "source": [
    "**We can see how the pdf correlates to the cdf for the ratings. The larger a PDF bar value is, the larger the cumilitive step is in the CDF chart. We can see this clearly in Rank 2 since there is much more of a jump here than in Rank 3 and 4, but Rank 5 has the highest step out of all of the ranks.**"
   ]
  },
  {
   "cell_type": "markdown",
   "metadata": {},
   "source": [
    "## Conclusion\n",
    "\n",
    "So far, we have revisited the some fundamental topics we have learned about in class such as Posterior Probability, Expectation, and visualized results with distribution charts. We analyzed a video game scenario with Omar, a student whose video game habits depend on how he is feeling, which evidentally connects to other factors like rating and genre. As this is only one example of a real-world situation, I hope it can help students practice their skills for their careers and understanding in this course. As we will see these topics in many different scenarios, especially within data science and machine learning, we can offer ourselves the chance to gain more insights. I just hope my project can be used as a tool for that initiative."
   ]
  }
 ],
 "metadata": {
  "kernelspec": {
   "display_name": "base",
   "language": "python",
   "name": "python3"
  },
  "language_info": {
   "codemirror_mode": {
    "name": "ipython",
    "version": 3
   },
   "file_extension": ".py",
   "mimetype": "text/x-python",
   "name": "python",
   "nbconvert_exporter": "python",
   "pygments_lexer": "ipython3",
   "version": "3.11.5"
  }
 },
 "nbformat": 4,
 "nbformat_minor": 2
}
